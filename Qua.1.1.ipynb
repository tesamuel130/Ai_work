{
 "cells": [
  {
   "cell_type": "code",
   "execution_count": 42,
   "id": "77f75780",
   "metadata": {},
   "outputs": [],
   "source": [
    "\n",
    "from collections import defaultdict"
   ]
  },
  {
   "cell_type": "code",
   "execution_count": 43,
   "id": "2b42b390",
   "metadata": {},
   "outputs": [],
   "source": [
    "# Cell 2: Define the GraphBuilder class\n",
    "class GraphBuilder:\n",
    "    def __init__(self):\n",
    "        \"\"\"\n",
    "        Initialize an empty graph as an adjacency list.\n",
    "        \"\"\"\n",
    "        self.graph = defaultdict(list)\n",
    "\n",
    "    def add_edge(self, city1, city2):\n",
    "        \"\"\"\n",
    "        Add an edge between two cities in the graph.\n",
    "        \n",
    "        :param city1: The first city.\n",
    "        :param city2: The second city.\n",
    "        \"\"\"\n",
    "        # Add city2 to city1's neighbors\n",
    "        self.graph[city1].append(city2)\n",
    "        # Add city1 to city2's neighbors (for undirected graphs)\n",
    "        self.graph[city2].append(city1)\n",
    "\n",
    "    def build_graph(self, edges):\n",
    "        \"\"\"\n",
    "        Build the graph from a list of edges.\n",
    "        \n",
    "        :param edges: A list of tuples representing edges between cities.\n",
    "                      Example: [(\"Addis Ababa\", \"Ambo\"), (\"Addis Ababa\", \"Adama\"), ...]\n",
    "        \"\"\"\n",
    "        for city1, city2 in edges:\n",
    "            self.add_edge(city1, city2)\n",
    "\n",
    "    def get_graph(self):\n",
    "        \"\"\"\n",
    "        Return the constructed graph.\n",
    "        \n",
    "        :return: The adjacency list representation of the graph.\n",
    "        \"\"\"\n",
    "        return dict(self.graph)"
   ]
  },
  {
   "cell_type": "code",
   "execution_count": 44,
   "id": "d9b08e2f",
   "metadata": {},
   "outputs": [],
   "source": [
    "# Cell 3: Define the edges based on Figure 1\n",
    "edges = [\n",
    "    (\"Addis Ababa\", \"Ambo\"),\n",
    "    (\"Addis Ababa\", \"Adama\"),\n",
    "    (\"Addis Ababa\", \"Debre Birhan\"),\n",
    "    (\"Ambo\", \"Nekemete\"),\n",
    "    (\"Adama\", \"Dire Dawa\"),\n",
    "    (\"Debre Birhan\", \"Dessie\"),\n",
    "    (\"Nekemete\", \"Gimbi\"),\n",
    "    (\"Dire Dawa\", \"Harar\"),\n",
    "    (\"Dessie\", \"Lalibela\"),\n",
    "    (\"Gimbi\", \"Jimma\"),\n",
    "    (\"Harar\", \"Babile\"),\n",
    "    (\"Jimma\", \"Wolkite\"),\n",
    "    (\"Wolkite\", \"Hossana\"),\n",
    "    (\"Hossana\", \"Wolaita\"),\n",
    "    (\"Wolaita\", \"Hawassa\"),\n",
    "    (\"Hawassa\", \"Dilla\"),\n",
    "    (\"Dilla\", \"Sof Oumer\"),\n",
    "    (\"Sof Oumer\", \"Gode\")\n",
    "]"
   ]
  },
  {
   "cell_type": "code",
   "execution_count": 45,
   "id": "2305d6b4",
   "metadata": {},
   "outputs": [
    {
     "name": "stdout",
     "output_type": "stream",
     "text": [
      "Adjacency List Representation of the Graph:\n"
     ]
    },
    {
     "data": {
      "text/plain": [
       "{'Addis Ababa': ['Ambo', 'Adama', 'Debre Birhan'],\n",
       " 'Ambo': ['Addis Ababa', 'Nekemete'],\n",
       " 'Adama': ['Addis Ababa', 'Dire Dawa'],\n",
       " 'Debre Birhan': ['Addis Ababa', 'Dessie'],\n",
       " 'Nekemete': ['Ambo', 'Gimbi'],\n",
       " 'Dire Dawa': ['Adama', 'Harar'],\n",
       " 'Dessie': ['Debre Birhan', 'Lalibela'],\n",
       " 'Gimbi': ['Nekemete', 'Jimma'],\n",
       " 'Harar': ['Dire Dawa', 'Babile'],\n",
       " 'Lalibela': ['Dessie'],\n",
       " 'Jimma': ['Gimbi', 'Wolkite'],\n",
       " 'Babile': ['Harar'],\n",
       " 'Wolkite': ['Jimma', 'Hossana'],\n",
       " 'Hossana': ['Wolkite', 'Wolaita'],\n",
       " 'Wolaita': ['Hossana', 'Hawassa'],\n",
       " 'Hawassa': ['Wolaita', 'Dilla'],\n",
       " 'Dilla': ['Hawassa', 'Sof Oumer'],\n",
       " 'Sof Oumer': ['Dilla', 'Gode'],\n",
       " 'Gode': ['Sof Oumer']}"
      ]
     },
     "execution_count": 45,
     "metadata": {},
     "output_type": "execute_result"
    }
   ],
   "source": [
    "# Cell 4: Build the graph\n",
    "builder = GraphBuilder()\n",
    "builder.build_graph(edges)\n",
    "graph = builder.get_graph()\n",
    "\n",
    "# Print the graph\n",
    "print(\"Adjacency List Representation of the Graph:\")\n",
    "graph"
   ]
  },
  {
   "cell_type": "code",
   "execution_count": 46,
   "id": "8bf717c0",
   "metadata": {},
   "outputs": [
    {
     "ename": "ModuleNotFoundError",
     "evalue": "No module named 'networkx'",
     "output_type": "error",
     "traceback": [
      "\u001b[31m---------------------------------------------------------------------------\u001b[39m",
      "\u001b[31mModuleNotFoundError\u001b[39m                       Traceback (most recent call last)",
      "\u001b[36mCell\u001b[39m\u001b[36m \u001b[39m\u001b[32mIn[46]\u001b[39m\u001b[32m, line 2\u001b[39m\n\u001b[32m      1\u001b[39m \u001b[38;5;66;03m# Cell 5: Visualize the graph using NetworkX and Matplotlib\u001b[39;00m\n\u001b[32m----> \u001b[39m\u001b[32m2\u001b[39m \u001b[38;5;28;01mimport\u001b[39;00m\u001b[38;5;250m \u001b[39m\u001b[34;01mnetworkx\u001b[39;00m\u001b[38;5;250m \u001b[39m\u001b[38;5;28;01mas\u001b[39;00m\u001b[38;5;250m \u001b[39m\u001b[34;01mnx\u001b[39;00m\n\u001b[32m      3\u001b[39m \u001b[38;5;28;01mimport\u001b[39;00m\u001b[38;5;250m \u001b[39m\u001b[34;01mmatplotlib\u001b[39;00m\u001b[34;01m.\u001b[39;00m\u001b[34;01mpyplot\u001b[39;00m\u001b[38;5;250m \u001b[39m\u001b[38;5;28;01mas\u001b[39;00m\u001b[38;5;250m \u001b[39m\u001b[34;01mplt\u001b[39;00m\n\u001b[32m      5\u001b[39m \u001b[38;5;66;03m# Create a graph object\u001b[39;00m\n",
      "\u001b[31mModuleNotFoundError\u001b[39m: No module named 'networkx'"
     ]
    }
   ],
   "source": [
    "# Cell 5: Visualize the graph using NetworkX and Matplotlib\n",
    "import networkx as nx\n",
    "import matplotlib.pyplot as plt\n",
    "\n",
    "# Create a graph object\n",
    "G = nx.Graph(graph)\n",
    "\n",
    "# Draw the graph\n",
    "plt.figure(figsize=(12, 8))\n",
    "pos = nx.spring_layout(G, seed=42)  # Position nodes using a spring layout\n",
    "nx.draw(G, pos, with_labels=True, node_size=3000, node_color=\"lightblue\", font_size=10, font_weight=\"bold\")\n",
    "plt.title(\"Graph Representation of Traveling Ethiopia Search Problem\")\n",
    "plt.show()"
   ]
  }
 ],
 "metadata": {
  "kernelspec": {
   "display_name": "ai-projects",
   "language": "python",
   "name": "python3"
  },
  "language_info": {
   "codemirror_mode": {
    "name": "ipython",
    "version": 3
   },
   "file_extension": ".py",
   "mimetype": "text/x-python",
   "name": "python",
   "nbconvert_exporter": "python",
   "pygments_lexer": "ipython3",
   "version": "3.11.5"
  }
 },
 "nbformat": 4,
 "nbformat_minor": 5
}
