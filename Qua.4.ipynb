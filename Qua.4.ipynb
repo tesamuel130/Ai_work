{
 "cells": [
  {
   "cell_type": "code",
   "execution_count": null,
   "id": "c84231e2",
   "metadata": {},
   "outputs": [],
   "source": [
    "# Cell 1: Import Libraries\n",
    "from collections import defaultdict"
   ]
  },
  {
   "cell_type": "code",
   "execution_count": null,
   "id": "1ee74b17",
   "metadata": {},
   "outputs": [],
   "source": [
    "# Cell 2: Parse the Knowledge Base\n",
    "# Define the graph as a dictionary {city: [(neighbor, is_terminal, utility_value)]}\n",
    "graph = {\n",
    "    \"Addis\": [(\"Gimbi\", False, None), (\"Ambo\", False, None), (\"Nekemet\", False, None)],\n",
    "    \"Gimbi\": [(\"Addis\", False, None), (\"Limu\", True, 8)],  # Limu is a terminal node with utility 8\n",
    "    \"Ambo\": [(\"Addis\", False, None), (\"Wolkite\", False, None)],\n",
    "    \"Wolkite\": [(\"Ambo\", False, None), (\"Buta\", False, None)],\n",
    "    \"Buta\": [(\"Wolkite\", False, None), (\"Jimma\", True, 6)],  # Jimma is a terminal node with utility 6\n",
    "    \"Nekemet\": [(\"Addis\", False, None), (\"Adama\", False, None)],\n",
    "    \"Adama\": [(\"Nekemet\", False, None), (\"Mojo\", True, 5)],  # Mojo is a terminal node with utility 5\n",
    "    \"Diredawa\": [(\"Harar\", False, None)],\n",
    "    \"Harar\": [(\"Diredawa\", False, None), (\"Babile\", True, 4)],  # Babile is a terminal node with utility 4\n",
    "    \"Chiro\": [(\"Worabe\", True, 7)],  # Worabe is a terminal node with utility 7\n",
    "    \"Tepi\": [(\"Kaffa\", True, 9)],  # Kaffa is a terminal node with utility 9\n",
    "}\n",
    "\n",
    "# Define the initial state\n",
    "initial_state = \"Addis\""
   ]
  },
  {
   "cell_type": "code",
   "execution_count": null,
   "id": "7d96d5eb",
   "metadata": {},
   "outputs": [],
   "source": [
    "# Cell 3: Implement the MiniMax Algorithm\n",
    "class MiniMax:\n",
    "    def __init__(self, graph):\n",
    "        self.graph = graph\n",
    "\n",
    "    def minimax(self, state, maximizing_player):\n",
    "        \"\"\"\n",
    "        Perform MiniMax search to find the best move for the agent.\n",
    "        :param state: Current state (city)\n",
    "        :param maximizing_player: True if it's the agent's turn, False if it's the adversary's turn\n",
    "        :return: (best_value, best_move)\n",
    "        \"\"\"\n",
    "        # If the current state is a terminal state, return its utility value\n",
    "        neighbors = self.graph[state]\n",
    "        if all(is_terminal for _, is_terminal, _ in neighbors):\n",
    "            return max((utility for _, _, utility in neighbors if utility is not None), default=float('-inf')), None\n",
    "\n",
    "        if maximizing_player:\n",
    "            # Agent's turn: maximize the utility\n",
    "            best_value = float('-inf')\n",
    "            best_move = None\n",
    "            for neighbor, is_terminal, utility in neighbors:\n",
    "                if is_terminal:\n",
    "                    value = utility\n",
    "                else:\n",
    "                    value, _ = self.minimax(neighbor, False)  # Recurse for the adversary's turn\n",
    "                if value > best_value:\n",
    "                    best_value = value\n",
    "                    best_move = neighbor\n",
    "            return best_value, best_move\n",
    "        else:\n",
    "            # Adversary's turn: minimize the utility\n",
    "            best_value = float('inf')\n",
    "            best_move = None\n",
    "            for neighbor, is_terminal, utility in neighbors:\n",
    "                if is_terminal:\n",
    "                    value = utility\n",
    "                else:\n",
    "                    value, _ = self.minimax(neighbor, True)  # Recurse for the agent's turn\n",
    "                if value < best_value:\n",
    "                    best_value = value\n",
    "                    best_move = neighbor\n",
    "            return best_value, best_move"
   ]
  },
  {
   "cell_type": "code",
   "execution_count": null,
   "id": "5e927bf1",
   "metadata": {},
   "outputs": [],
   "source": [
    "# Cell 4: Test the Algorithm\n",
    "# Initialize the MiniMax class\n",
    "minimax_search = MiniMax(graph)\n",
    "\n",
    "# Perform MiniMax search starting from the initial state\n",
    "best_value, best_move = minimax_search.minimax(initial_state, True)\n",
    "\n",
    "print(\"Best Utility Value:\", best_value)\n",
    "print(\"Best Move from Addis:\", best_move)"
   ]
  }
 ],
 "metadata": {
  "language_info": {
   "name": "python"
  }
 },
 "nbformat": 4,
 "nbformat_minor": 5
}
